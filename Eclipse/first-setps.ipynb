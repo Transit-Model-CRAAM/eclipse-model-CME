{
 "cells": [
  {
   "cell_type": "code",
   "execution_count": 10,
   "source": [
    "#imports\n",
    "import numpy as np\n",
    "from matplotlib import pyplot\n",
    "from Star.Estrela import Estrela\n",
    "from Planet.Eclipse import Eclipse\n",
    "from Planet.Planeta import Planeta\n",
    "from Planet.Moon import Moon\n",
    "from Misc.Verify  import Validar,calSemiEixo,calculaLat\n",
    "import cv2 as cv\n",
    "import numpy as np\n",
    "\n",
    "%matplotlib tk"
   ],
   "outputs": [],
   "metadata": {}
  },
  {
   "cell_type": "markdown",
   "source": [
    "## Modelando a Estrela"
   ],
   "metadata": {}
  },
  {
   "cell_type": "code",
   "execution_count": 11,
   "source": [
    "raio = 373. #default (pixel)\n",
    "intensidadeMaxima = 240 #default\n",
    "tamanhoMatriz = 856 #default\n",
    "raioSun = 0.805 #raio da estrela em relacao ao raio do sol\n",
    "raioStar = raioSun*696340 #multiplicando pelo raio solar em Km \n",
    "coeficienteHum = 0.377\n",
    "coeficienteDois = 0.024\n",
    "\n",
    "#cria estrela\n",
    "estrela_ = Estrela(raio,raioSun,intensidadeMaxima,coeficienteHum,coeficienteDois,tamanhoMatriz)\n",
    "\n",
    "Nx= estrela_.getNx() #Nx e Ny necessarios para a plotagem do eclipse\n",
    "Ny= estrela_.getNy()\n",
    "dtor = np.pi/180.  "
   ],
   "outputs": [],
   "metadata": {}
  },
  {
   "cell_type": "markdown",
   "source": [
    "## Modelando o Planeta"
   ],
   "metadata": {}
  },
  {
   "cell_type": "code",
   "execution_count": 12,
   "source": [
    "periodo = 2.219 # em dias\n",
    "anguloInclinacao = 85.51  # em graus\n",
    "ecc = 0 # excentricidade\n",
    "anom = 0 # anomalia\n",
    "raioPlanJup = 1.138 # em relação ao raio de jupiter\n",
    "semiEixoUA = 0.031 # UA\n",
    "massPlaneta = 1.138 #em relacao ao R de jupiter\n",
    "\n",
    "planeta = Planeta(semiEixoUA, raioPlanJup, periodo, anguloInclinacao, ecc, anom, raioStar, massPlaneta)\n"
   ],
   "outputs": [],
   "metadata": {}
  },
  {
   "cell_type": "code",
   "execution_count": 13,
   "source": [
    "estrela = estrela_.getEstrela()\n",
    "estrela_.Plotar(tamanhoMatriz, estrela)"
   ],
   "outputs": [],
   "metadata": {}
  },
  {
   "cell_type": "code",
   "execution_count": 14,
   "source": [
    "#eclipse\n",
    "lua = False\n",
    "cme = False \n",
    "eclipse= Eclipse(Nx,Ny,raio,estrela, planeta)\n",
    "estrela_.Plotar(tamanhoMatriz,estrela)\n",
    "eclipse.geraTempoHoras()\n",
    "tempoHoras=eclipse.getTempoHoras()\n",
    "\n",
    "eclipse.criarEclipse(lua,cme, anim=True)\n",
    "\n",
    "print (\"Tempo Total (Trânsito):\",eclipse.getTempoTransito()) \n",
    "tempoTransito=eclipse.getTempoTransito()\n",
    "curvaLuz=eclipse.getCurvaLuz()\n",
    "tempoHoras=eclipse.getTempoHoras()\n",
    "\n",
    "#Plotagem da curva de luz \n",
    "pyplot.plot(tempoHoras,curvaLuz)\n",
    "pyplot.axis([-tempoTransito/2,tempoTransito/2,min(curvaLuz)-0.001,1.001])                       \n",
    "pyplot.show()\n"
   ],
   "outputs": [
    {
     "output_type": "stream",
     "name": "stdout",
     "text": [
      "\n",
      "Aguarde um momento, a animacao do trânsito está sendo gerada...\n",
      "\n",
      "Tempo Total (Trânsito): 4.838149455534431\n"
     ]
    }
   ],
   "metadata": {}
  },
  {
   "cell_type": "markdown",
   "source": [
    "## Modelando interferências na curva de Luz"
   ],
   "metadata": {}
  },
  {
   "cell_type": "markdown",
   "source": [
    "### Adicionando manchas"
   ],
   "metadata": {}
  },
  {
   "cell_type": "code",
   "execution_count": 6,
   "source": [
    "latsugerida = calculaLat(planeta.semiEixoRaioStar,anguloInclinacao)\n",
    "print(\"A latitude sugerida para que a mancha influencie na curva de luz da estrela é:\", latsugerida)\n",
    "\n",
    "#manchas\n",
    "count = 0\n",
    "quantidade = 1 #quantidade de manchas desejadas, se quiser acrescentar, mude essa variavel\n",
    "#cria vetores do tamanho de quantidade para colocar os parametros das manchas #passar isso pra dentro da classe.....\n",
    "fa = [0.]*quantidade #vetor area manchas\n",
    "fi = [0.]*quantidade #vetor intensidade manchas\n",
    "li = [0.]*quantidade #vetor longitude manchas\n",
    "\n",
    "while count!=quantidade: #o laço ira rodar a quantidade de manchas selecionada pelo usuario\n",
    "    print('\\033[1;35m\\n\\n══════════════════ Parâmetros da mancha ',count+1,'═══════════════════\\n\\n\\033[m')\n",
    "    r = Validar('Digite o raio da mancha em função do raio da estrela em pixels:')\n",
    "    intensidadeMancha= float(input('Digite a intensidade da mancha em função da intensidade máxima da estrela:'))\n",
    "    fi[count]=intensidadeMancha\n",
    "    lat=float(input('Latitude da mancha:'))\n",
    "    longt=float(input('Longitude da mancha:'))\n",
    "\n",
    "    li[count]=longt\n",
    "\n",
    "    raioMancha= r*raioStar\n",
    "    area = np.pi *(raioMancha**2)\n",
    "    fa[count]= area\n",
    "\n",
    "    ### TO-DO CRIAR CLASSE PARA MANCHA\n",
    "    print(\"Raio:\",r)\n",
    "    print(\"Intensidade:\",intensidadeMancha)\n",
    "    print(\"Intensidade:\",lat)\n",
    "    print(\"Intensidade:\",longt)\n",
    "    estrela=estrela_.manchas(r,intensidadeMancha,lat,longt) #recebe a escolha de se irá receber manchas ou não\n",
    "    count+=1\n",
    "\n",
    "estrela = estrela_.getEstrela()"
   ],
   "outputs": [
    {
     "output_type": "stream",
     "name": "stdout",
     "text": [
      "A latitude sugerida para que a mancha influencie na curva de luz da estrela é: -39.492915547801104\n",
      "\u001b[1;35m\n",
      "\n",
      "══════════════════ Parâmetros da mancha  1 ═══════════════════\n",
      "\n",
      "\u001b[m\n"
     ]
    },
    {
     "output_type": "error",
     "ename": "ValueError",
     "evalue": "could not convert string to float: ''",
     "traceback": [
      "\u001b[0;31m---------------------------------------------------------------------------\u001b[0m",
      "\u001b[0;31mValueError\u001b[0m                                Traceback (most recent call last)",
      "\u001b[0;32m/var/folders/48/9j82btmj24b8w65xd01ctfsr0000gq/T/ipykernel_79391/3421391130.py\u001b[0m in \u001b[0;36m<cell line: 12>\u001b[0;34m()\u001b[0m\n\u001b[1;32m     12\u001b[0m \u001b[0;32mwhile\u001b[0m \u001b[0mcount\u001b[0m\u001b[0;34m!=\u001b[0m\u001b[0mquantidade\u001b[0m\u001b[0;34m:\u001b[0m \u001b[0;31m#o laço ira rodar a quantidade de manchas selecionada pelo usuario\u001b[0m\u001b[0;34m\u001b[0m\u001b[0;34m\u001b[0m\u001b[0m\n\u001b[1;32m     13\u001b[0m     \u001b[0mprint\u001b[0m\u001b[0;34m(\u001b[0m\u001b[0;34m'\\033[1;35m\\n\\n══════════════════ Parâmetros da mancha '\u001b[0m\u001b[0;34m,\u001b[0m\u001b[0mcount\u001b[0m\u001b[0;34m+\u001b[0m\u001b[0;36m1\u001b[0m\u001b[0;34m,\u001b[0m\u001b[0;34m'═══════════════════\\n\\n\\033[m'\u001b[0m\u001b[0;34m)\u001b[0m\u001b[0;34m\u001b[0m\u001b[0;34m\u001b[0m\u001b[0m\n\u001b[0;32m---> 14\u001b[0;31m     \u001b[0mr\u001b[0m \u001b[0;34m=\u001b[0m \u001b[0mValidar\u001b[0m\u001b[0;34m(\u001b[0m\u001b[0;34m'Digite o raio da mancha em função do raio da estrela em pixels:'\u001b[0m\u001b[0;34m)\u001b[0m\u001b[0;34m\u001b[0m\u001b[0;34m\u001b[0m\u001b[0m\n\u001b[0m\u001b[1;32m     15\u001b[0m     \u001b[0mintensidadeMancha\u001b[0m\u001b[0;34m=\u001b[0m \u001b[0mfloat\u001b[0m\u001b[0;34m(\u001b[0m\u001b[0minput\u001b[0m\u001b[0;34m(\u001b[0m\u001b[0;34m'Digite a intensidade da mancha em função da intensidade máxima da estrela:'\u001b[0m\u001b[0;34m)\u001b[0m\u001b[0;34m)\u001b[0m\u001b[0;34m\u001b[0m\u001b[0;34m\u001b[0m\u001b[0m\n\u001b[1;32m     16\u001b[0m     \u001b[0mfi\u001b[0m\u001b[0;34m[\u001b[0m\u001b[0mcount\u001b[0m\u001b[0;34m]\u001b[0m\u001b[0;34m=\u001b[0m\u001b[0mintensidadeMancha\u001b[0m\u001b[0;34m\u001b[0m\u001b[0;34m\u001b[0m\u001b[0m\n",
      "\u001b[0;32m~/Projetos/StarsAndExoplanets/eclipse-model-CME/Eclipse/Misc/Verify.py\u001b[0m in \u001b[0;36mValidar\u001b[0;34m(msg)\u001b[0m\n\u001b[1;32m     15\u001b[0m     \u001b[0mvalor\u001b[0m\u001b[0;34m=\u001b[0m\u001b[0;36m0\u001b[0m\u001b[0;34m\u001b[0m\u001b[0;34m\u001b[0m\u001b[0m\n\u001b[1;32m     16\u001b[0m     \u001b[0;32mwhile\u001b[0m \u001b[0;32mTrue\u001b[0m\u001b[0;34m:\u001b[0m\u001b[0;34m\u001b[0m\u001b[0;34m\u001b[0m\u001b[0m\n\u001b[0;32m---> 17\u001b[0;31m         \u001b[0mn\u001b[0m\u001b[0;34m=\u001b[0m\u001b[0mfloat\u001b[0m\u001b[0;34m(\u001b[0m\u001b[0minput\u001b[0m\u001b[0;34m(\u001b[0m\u001b[0mmsg\u001b[0m\u001b[0;34m)\u001b[0m\u001b[0;34m)\u001b[0m\u001b[0;34m\u001b[0m\u001b[0;34m\u001b[0m\u001b[0m\n\u001b[0m\u001b[1;32m     18\u001b[0m         \u001b[0;32mif\u001b[0m  \u001b[0mn\u001b[0m\u001b[0;34m>=\u001b[0m\u001b[0;36m0\u001b[0m\u001b[0;34m:\u001b[0m\u001b[0;34m\u001b[0m\u001b[0;34m\u001b[0m\u001b[0m\n\u001b[1;32m     19\u001b[0m             \u001b[0mvalor\u001b[0m\u001b[0;34m=\u001b[0m \u001b[0mn\u001b[0m\u001b[0;34m\u001b[0m\u001b[0;34m\u001b[0m\u001b[0m\n",
      "\u001b[0;31mValueError\u001b[0m: could not convert string to float: ''"
     ]
    }
   ],
   "metadata": {}
  },
  {
   "cell_type": "markdown",
   "source": [
    "### Visualizar Eclipse com Manchas"
   ],
   "metadata": {}
  },
  {
   "cell_type": "code",
   "execution_count": 8,
   "source": [
    "#eclipse\n",
    "lua = False\n",
    "cme = False \n",
    "eclipse= Eclipse(Nx,Ny,raio,estrela, planeta)\n",
    "estrela_.Plotar(tamanhoMatriz,estrela)\n",
    "eclipse.geraTempoHoras()\n",
    "tempoHoras=eclipse.getTempoHoras()\n",
    "\n",
    "eclipse.criarEclipse(lua,cme, anim=True)\n",
    "\n",
    "print (\"Tempo Total (Trânsito):\",eclipse.getTempoTransito()) \n",
    "tempoTransito=eclipse.getTempoTransito()\n",
    "curvaLuz=eclipse.getCurvaLuz()\n",
    "tempoHoras=eclipse.getTempoHoras()\n",
    "\n",
    "#Plotagem da curva de luz \n",
    "pyplot.plot(tempoHoras,curvaLuz)\n",
    "pyplot.axis([-tempoTransito/2,tempoTransito/2,min(curvaLuz)-0.001,1.001])                       \n",
    "pyplot.show()"
   ],
   "outputs": [
    {
     "output_type": "stream",
     "name": "stdout",
     "text": [
      "\n",
      "Aguarde um momento, a animacao do trânsito está sendo gerada...\n",
      "\n",
      "Tempo Total (Trânsito): 4.838149455534431\n"
     ]
    }
   ],
   "metadata": {}
  },
  {
   "cell_type": "markdown",
   "source": [
    "### Adicionando CMEs"
   ],
   "metadata": {}
  },
  {
   "cell_type": "code",
   "execution_count": 8,
   "source": [
    "estrela = estrela_.getEstrela()\n",
    "temperatura_CME = 4000.0 # temperatura da CME (em K)\n",
    "raio_cme = 50 # em ??\n",
    "distancia_planeta = 0 #em km d = semi-eixoau*1.5e8\n",
    "velocidade_cme = 0 #tempo = d / v_CME\n",
    "estrela = estrela_.cme(temperatura_CME, raio_cme)"
   ],
   "outputs": [],
   "metadata": {}
  },
  {
   "cell_type": "code",
   "execution_count": 7,
   "source": [
    "#eclipse\n",
    "lua = False\n",
    "cme = True \n",
    "eclipse= Eclipse(Nx,Ny,raio,estrela, planeta)\n",
    "estrela_.Plotar(tamanhoMatriz,estrela)\n",
    "eclipse.geraTempoHoras()\n",
    "tempoHoras=eclipse.getTempoHoras()\n",
    "\n",
    "eclipse.criarEclipse(lua,cme, anim=True)\n",
    "\n",
    "print (\"Tempo Total (Trânsito):\",eclipse.getTempoTransito()) \n",
    "tempoTransito=eclipse.getTempoTransito()\n",
    "curvaLuz=eclipse.getCurvaLuz()\n",
    "tempoHoras=eclipse.getTempoHoras()\n",
    "\n",
    "#Plotagem da curva de luz \n",
    "pyplot.plot(tempoHoras,curvaLuz)\n",
    "pyplot.axis([-tempoTransito/2,tempoTransito/2,min(curvaLuz)-0.001,1.001])                       \n",
    "pyplot.show()"
   ],
   "outputs": [
    {
     "output_type": "stream",
     "name": "stdout",
     "text": [
      "\n",
      "Aguarde um momento, a animacao do trânsito está sendo gerada...\n",
      "\n",
      "Tempo Total (Trânsito): 4.838149455534431\n"
     ]
    }
   ],
   "metadata": {}
  },
  {
   "cell_type": "markdown",
   "source": [
    "### Adicionando luas"
   ],
   "metadata": {}
  },
  {
   "cell_type": "code",
   "execution_count": 15,
   "source": [
    "#criando lua \n",
    " \n",
    "# Criando Lua 1\n",
    "rmoon = 5 #em relacao ao raio da Terra\n",
    "mass = 0.5 #em relacao a massa da Terra\n",
    "perLua = 0.05 #em dias \n",
    "\n",
    "# Lua 2\n",
    "rmoon2 = 3 #em relacao ao raio da Terra\n",
    "mass2 = 0.5 #em relacao a massa da Terra\n",
    "perLua2 = 0.01 #em dias \n",
    "\n",
    "# self, raioM, massM ,periodoM,tempoHoras, planetaAnguloInclinacao, massPlaneta, raioPlanetaPixel, raioEstrelaPixel, raioStar\n",
    "# moon = eclipse.criarLua(rmoon,mass,raio,raioStar,tempoHoras,anguloInclinacao,periodo,distancia)\n",
    "moon = Moon(rmoon, mass, perLua, tempoHoras, planeta.anguloInclinacao, planeta.mass, planeta.getRaioPlanPixel(estrela_.raio), estrela_.raio, raioStar)\n",
    "moon.setMoonName(\"Bia\")\n",
    "\n",
    "moon2 = Moon(rmoon2, mass2, perLua2, tempoHoras, planeta.anguloInclinacao, planeta.mass, planeta.getRaioPlanPixel(estrela_.raio), estrela_.raio, raioStar)\n",
    "moon2.setMoonName(\"Batatinha\")\n",
    "\n",
    "eclipse.criarLua(moon) #adiciona lua no planeta que esta no eclipse\n",
    "eclipse.criarLua(moon2)\n",
    "\n",
    "# Criando planeta com lua \n",
    "estrela = estrela_.getEstrela()\n"
   ],
   "outputs": [],
   "metadata": {}
  },
  {
   "cell_type": "markdown",
   "source": [
    "### Analisando curva de luz"
   ],
   "metadata": {}
  },
  {
   "cell_type": "code",
   "execution_count": 16,
   "source": [
    "#eclipse\n",
    "lua = True\n",
    "cme = False \n",
    "\n",
    "estrela_.Plotar(tamanhoMatriz,estrela)\n",
    "eclipse.geraTempoHoras()\n",
    "tempoHoras=eclipse.getTempoHoras()\n",
    "\n",
    "eclipse.criarEclipse(lua,cme, anim=True)\n",
    "\n",
    "print (\"Tempo Total (Trânsito):\",eclipse.getTempoTransito()) \n",
    "tempoTransito=eclipse.getTempoTransito()\n",
    "curvaLuz=eclipse.getCurvaLuz()\n",
    "tempoHoras=eclipse.getTempoHoras()\n",
    "\n",
    "#Plotagem da curva de luz \n",
    "pyplot.plot(tempoHoras,curvaLuz)\n",
    "pyplot.axis([-tempoTransito/2,tempoTransito/2,min(curvaLuz)-0.001,1.001])                       \n",
    "pyplot.show()"
   ],
   "outputs": [
    {
     "output_type": "stream",
     "name": "stdout",
     "text": [
      "\n",
      "Aguarde um momento, a animacao do trânsito está sendo gerada...\n",
      "\n",
      "[<Planet.Moon.Moon object at 0x7fc171b326d0>]\n",
      "LUA::::: Bia\n",
      "Tempo Total (Trânsito): 4.838149455534431\n"
     ]
    }
   ],
   "metadata": {}
  }
 ],
 "metadata": {
  "orig_nbformat": 4,
  "language_info": {
   "name": "python",
   "version": "3.9.10",
   "mimetype": "text/x-python",
   "codemirror_mode": {
    "name": "ipython",
    "version": 3
   },
   "pygments_lexer": "ipython3",
   "nbconvert_exporter": "python",
   "file_extension": ".py"
  },
  "kernelspec": {
   "name": "python3",
   "display_name": "Python 3.9.10 64-bit"
  },
  "interpreter": {
   "hash": "aee8b7b246df8f9039afb4144a1f6fd8d2ca17a180786b69acc140d282b71a49"
  }
 },
 "nbformat": 4,
 "nbformat_minor": 2
}