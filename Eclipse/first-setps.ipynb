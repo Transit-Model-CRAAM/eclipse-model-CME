{
 "cells": [
  {
   "cell_type": "code",
   "execution_count": 1,
   "source": [
    "#imports\n",
    "import numpy as np\n",
    "from matplotlib import pyplot\n",
    "from Star.Estrela import Estrela\n",
    "from Planet.Eclipse import Eclipse\n",
    "from Planet.Planeta import Planeta\n",
    "from Misc.Verify  import Validar,calSemiEixo,calculaLat\n",
    "import cv2 as cv\n",
    "import numpy as np\n",
    "\n",
    "%matplotlib tk"
   ],
   "outputs": [],
   "metadata": {}
  },
  {
   "cell_type": "markdown",
   "source": [
    "## Modelando a Estrela"
   ],
   "metadata": {}
  },
  {
   "cell_type": "code",
   "execution_count": 2,
   "source": [
    "raio = 373. #default (pixel)\n",
    "intensidadeMaxima = 240 #default\n",
    "tamanhoMatriz = 856 #default\n",
    "raioSun = 0.805 #raio da estrela em relacao ao raio do sol\n",
    "raioStar = raioSun*696340 #multiplicando pelo raio solar em Km \n",
    "coeficienteHum = 0.377\n",
    "coeficienteDois = 0.024\n",
    "\n",
    "#cria estrela\n",
    "estrela_ = Estrela(raio,raioSun,intensidadeMaxima,coeficienteHum,coeficienteDois,tamanhoMatriz)\n",
    "\n",
    "Nx= estrela_.getNx() #Nx e Ny necessarios para a plotagem do eclipse\n",
    "Ny= estrela_.getNy()\n",
    "dtor = np.pi/180.  "
   ],
   "outputs": [],
   "metadata": {}
  },
  {
   "cell_type": "markdown",
   "source": [
    "## Modelando o Planeta"
   ],
   "metadata": {}
  },
  {
   "cell_type": "code",
   "execution_count": 3,
   "source": [
    "periodo = 2.219 # em dias\n",
    "anguloInclinacao = 85.51  # em graus\n",
    "ecc = 0 # excentricidade\n",
    "anom = 0 # anomalia\n",
    "raioPlanJup = 1.138 # em relação ao raio de jupiter\n",
    "semiEixoUA = 0.031 # UA\n",
    "\n",
    "planeta = Planeta(semiEixoUA, raioPlanJup, periodo, anguloInclinacao, ecc, anom, raioStar)\n"
   ],
   "outputs": [],
   "metadata": {}
  },
  {
   "cell_type": "code",
   "execution_count": 4,
   "source": [
    "estrela = estrela_.getEstrela()\n",
    "estrela_.Plotar(tamanhoMatriz,estrela)"
   ],
   "outputs": [],
   "metadata": {}
  },
  {
   "cell_type": "code",
   "execution_count": 5,
   "source": [
    "#eclipse\n",
    "lua = False\n",
    "cme = False \n",
    "eclipse= Eclipse(Nx,Ny,raio,estrela, planeta)\n",
    "estrela_.Plotar(tamanhoMatriz,estrela)\n",
    "eclipse.geraTempoHoras()\n",
    "tempoHoras=eclipse.getTempoHoras()\n",
    "\n",
    "eclipse.criarEclipse(lua,cme, anim=True)\n",
    "\n",
    "print (\"Tempo Total (Trânsito):\",eclipse.getTempoTransito()) \n",
    "tempoTransito=eclipse.getTempoTransito()\n",
    "curvaLuz=eclipse.getCurvaLuz()\n",
    "tempoHoras=eclipse.getTempoHoras()\n",
    "\n",
    "#Plotagem da curva de luz \n",
    "pyplot.plot(tempoHoras,curvaLuz)\n",
    "pyplot.axis([-tempoTransito/2,tempoTransito/2,min(curvaLuz)-0.001,1.001])                       \n",
    "pyplot.show()\n"
   ],
   "outputs": [
    {
     "output_type": "stream",
     "name": "stdout",
     "text": [
      "\n",
      "Aguarde um momento, a animacao do trânsito está sendo gerada...\n",
      "\n",
      "Tempo Total (Trânsito): 4.838149455534431\n"
     ]
    }
   ],
   "metadata": {}
  },
  {
   "cell_type": "markdown",
   "source": [
    "## Modelando interferências na curva de Luz"
   ],
   "metadata": {}
  },
  {
   "cell_type": "markdown",
   "source": [
    "### Adicionando manchas"
   ],
   "metadata": {}
  },
  {
   "cell_type": "code",
   "execution_count": null,
   "source": [
    "latsugerida = calculaLat(planeta.semiEixoRaioStar,anguloInclinacao)\n",
    "print(\"A latitude sugerida para que a mancha influencie na curva de luz da estrela é:\", latsugerida)\n",
    "\n",
    "#manchas\n",
    "count = 0\n",
    "quantidade = 0 #quantidade de manchas desejadas, se quiser acrescentar, mude essa variavel\n",
    "#cria vetores do tamanho de quantidade para colocar os parametros das manchas\n",
    "fa = [0.]*quantidade #vetor area manchas\n",
    "fi = [0.]*quantidade #vetor intensidade manchas\n",
    "li = [0.]*quantidade #vetor longitude manchas\n",
    "\n",
    "while count!=quantidade: #o laço ira rodar a quantidade de manchas selecionada pelo usuario\n",
    "    print('\\033[1;35m\\n\\n══════════════════ Parâmetros da mancha ',count+1,'═══════════════════\\n\\n\\033[m')\n",
    "    r = Validar('Digite o raio da mancha em função do raio da estrela em pixels:')\n",
    "                \n",
    "    intensidadeMancha= float(input('Digite a intensidade da mancha em função da intensidade máxima da estrela:'))\n",
    "    fi[count]=intensidadeMancha\n",
    "    lat=float(input('Latitude da mancha:'))\n",
    "    longt=float(input('Longitude da mancha:'))\n",
    "    li[count]=longt\n",
    "\n",
    "    raioMancha= r*raioStar\n",
    "    area = np.pi *(raioMancha**2)\n",
    "    fa[count]= area\n",
    "\n",
    "    estrela=estrela_.manchas(r,intensidadeMancha,lat,longt) #recebe a escolha de se irá receber manchas ou não\n",
    "    count+=1\n",
    "\n",
    "estrela_.Plotar(tamanhoMatriz,estrela)"
   ],
   "outputs": [],
   "metadata": {}
  },
  {
   "cell_type": "markdown",
   "source": [
    "### Adicionando CMEs"
   ],
   "metadata": {}
  },
  {
   "cell_type": "code",
   "execution_count": null,
   "source": [
    "estrela = estrela_.getEstrela()\n",
    "temperatura_CME = 4000.0 # temperatura da CME (em K)\n",
    "raio_cme = 50 # em ??\n",
    "estrela = estrela_.cme(temperatura_CME, raio_cme)\n",
    "\n",
    "estrela_.Plotar(tamanhoMatriz,estrela)"
   ],
   "outputs": [],
   "metadata": {}
  },
  {
   "cell_type": "markdown",
   "source": [
    "### Adicionando luas"
   ],
   "metadata": {}
  },
  {
   "cell_type": "code",
   "execution_count": null,
   "source": [
    "#criando lua \n",
    "lua = True #se nao quiser luas, mudar para False\n",
    "\n",
    "#instanciando LUA\n",
    "rmoon = 0.5 #em relacao ao raio da Terra\n",
    "rmoon = rmoon *6371 #multiplicando pelo R da terra em Km\n",
    "mass = 0.001 #em relacao a massa da Terra\n",
    "mass = mass * (5.972*(10**24))\n",
    "massPlaneta = 0.002 #em relacao ao R de jupiter\n",
    "massPlaneta = massPlaneta * (1.898 *(10**27)) #passar para gramas por conta da constante G\n",
    "G = (6.674184*(10**(-11)))\n",
    "perLua = 0.1 #em dias \n",
    "distancia=((((perLua*24.*3600./2./np.pi)**2)*G*(massPlaneta+mass))**(1./3))/raioStar\n",
    "distancia = distancia/100\n",
    "moon = eclipse.criarLua(rmoon,mass,raio,raioStar,tempoHoras,anguloInclinacao,periodo,distancia)\n",
    "estrela = estrela_.getEstrela()"
   ],
   "outputs": [],
   "metadata": {}
  },
  {
   "cell_type": "markdown",
   "source": [
    "### Analisando curva de luz"
   ],
   "metadata": {}
  },
  {
   "cell_type": "code",
   "execution_count": null,
   "source": [
    "#eclipse\n",
    "eclipse= Eclipse(Nx,Ny,raio,estrela)\n",
    "estrela_.Plotar(tamanhoMatriz,estrela)\n",
    "eclipse.geraTempoHoras()\n",
    "tempoHoras=eclipse.getTempoHoras()\n",
    "\n",
    "eclipse.criarEclipse(planeta.semiEixoRaioStar, semiEixoUA, planeta.raioPlanetaRstar,raioPlanJup,periodo,anguloInclinacao,lua,ecc,anom)\n",
    "\n",
    "\n",
    "print (\"Tempo Total (Trânsito):\",eclipse.getTempoTransito()) \n",
    "tempoTransito=eclipse.getTempoTransito()\n",
    "curvaLuz=eclipse.getCurvaLuz()\n",
    "tempoHoras=eclipse.getTempoHoras()\n",
    "\n",
    "#Plotagem da curva de luz \n",
    "pyplot.plot(tempoHoras,curvaLuz)\n",
    "pyplot.axis([-tempoTransito/2,tempoTransito/2,min(curvaLuz)-0.001,1.001])                       \n",
    "pyplot.show()\n"
   ],
   "outputs": [],
   "metadata": {}
  }
 ],
 "metadata": {
  "orig_nbformat": 4,
  "language_info": {
   "name": "python",
   "version": "3.9.10",
   "mimetype": "text/x-python",
   "codemirror_mode": {
    "name": "ipython",
    "version": 3
   },
   "pygments_lexer": "ipython3",
   "nbconvert_exporter": "python",
   "file_extension": ".py"
  },
  "kernelspec": {
   "name": "python3",
   "display_name": "Python 3.9.10 64-bit"
  },
  "interpreter": {
   "hash": "aee8b7b246df8f9039afb4144a1f6fd8d2ca17a180786b69acc140d282b71a49"
  }
 },
 "nbformat": 4,
 "nbformat_minor": 2
}